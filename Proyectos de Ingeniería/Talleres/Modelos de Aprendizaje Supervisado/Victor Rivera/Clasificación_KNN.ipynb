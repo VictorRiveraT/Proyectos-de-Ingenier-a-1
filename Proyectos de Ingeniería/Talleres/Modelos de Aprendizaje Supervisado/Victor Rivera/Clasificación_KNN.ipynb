{
  "nbformat": 4,
  "nbformat_minor": 0,
  "metadata": {
    "colab": {
      "provenance": []
    },
    "kernelspec": {
      "name": "python3",
      "display_name": "Python 3"
    },
    "language_info": {
      "name": "python"
    }
  },
  "cells": [
    {
      "cell_type": "code",
      "source": [
        "import numpy as np\n",
        "import pandas as pd\n",
        "import matplotlib.pyplot as plt\n",
        "import seaborn as sns\n",
        "\n",
        "from sklearn.model_selection import train_test_split\n",
        "from sklearn.preprocessing import StandardScaler\n",
        "from sklearn.neighbors import KNeighborsClassifier\n",
        "from sklearn.metrics import accuracy_score, classification_report, confusion_matrix"
      ],
      "metadata": {
        "id": "7uZF_pAUDHus"
      },
      "execution_count": 1,
      "outputs": []
    },
    {
      "cell_type": "code",
      "source": [
        "df = pd.read_csv(\n",
        "    \"https://github.com/ulewis/Ejemplos/raw/main/Datos/Classified_Data.txt\",\n",
        "    index_col=0\n",
        ")"
      ],
      "metadata": {
        "id": "lAndsrYQDKvi"
      },
      "execution_count": 2,
      "outputs": []
    },
    {
      "cell_type": "code",
      "source": [
        "# Clipping 1–99% para estabilizar outliers\n",
        "num_cols = df.columns.drop('TARGET CLASS')\n",
        "Q01 = df[num_cols].quantile(0.01)\n",
        "Q99 = df[num_cols].quantile(0.99)\n",
        "df[num_cols] = df[num_cols].clip(Q01, Q99, axis=1)"
      ],
      "metadata": {
        "id": "qv1oyYk4DQLo"
      },
      "execution_count": 3,
      "outputs": []
    },
    {
      "cell_type": "code",
      "source": [
        "# Escalado sobre TODO el dataset (tal como suelen hacer en estos labs)\n",
        "scaler = StandardScaler()\n",
        "X_all = scaler.fit_transform(df.drop(\"TARGET CLASS\", axis=1))\n",
        "y_all = df[\"TARGET CLASS\"].values"
      ],
      "metadata": {
        "id": "1tbqrJxnDR-Y"
      },
      "execution_count": 4,
      "outputs": []
    },
    {
      "cell_type": "code",
      "execution_count": 5,
      "metadata": {
        "colab": {
          "base_uri": "https://localhost:8080/"
        },
        "id": "nJ1m8mE6C7_H",
        "outputId": "47ee6c99-8856-45c2-f91a-a6553bd6ecdb"
      },
      "outputs": [
        {
          "output_type": "stream",
          "name": "stdout",
          "text": [
            "=== BASELINE (clipping + k=24) ===\n",
            "Accuracy : 95.40%\n",
            "Tasa de error: 4.60%\n",
            "              precision    recall  f1-score   support\n",
            "\n",
            "           0     0.9522    0.9560    0.9541       250\n",
            "           1     0.9558    0.9520    0.9539       250\n",
            "\n",
            "    accuracy                         0.9540       500\n",
            "   macro avg     0.9540    0.9540    0.9540       500\n",
            "weighted avg     0.9540    0.9540    0.9540       500\n",
            "\n"
          ]
        }
      ],
      "source": [
        "# Baseline: mismo split y k≈24\n",
        "def eval_split_k(random_state=101, k=24, weights=\"uniform\", p=2):\n",
        "    X_train, X_test, y_train, y_test = train_test_split(\n",
        "        X_all, y_all, test_size=0.50, random_state=random_state  # sin stratify, como en el cuaderno\n",
        "    )\n",
        "    model = KNeighborsClassifier(n_neighbors=k, weights=weights, p=p)\n",
        "    model.fit(X_train, y_train)\n",
        "    y_pred = model.predict(X_test)\n",
        "    acc = accuracy_score(y_test, y_pred)\n",
        "    err = (1 - acc) * 100\n",
        "    return err, acc, y_test, y_pred, model\n",
        "\n",
        "err_base, acc_base, y_test_b, y_pred_b, model_b = eval_split_k(random_state=101, k=24, weights=\"uniform\", p=2)\n",
        "print(\"=== BASELINE (clipping + k=24) ===\")\n",
        "print(f\"Accuracy : {acc_base*100:.2f}%\")\n",
        "print(f\"Tasa de error: {err_base:.2f}%\")\n",
        "print(classification_report(y_test_b, y_pred_b, digits=4))"
      ]
    }
  ]
}