{
  "nbformat": 4,
  "nbformat_minor": 0,
  "metadata": {
    "colab": {
      "provenance": []
    },
    "kernelspec": {
      "name": "python3",
      "display_name": "Python 3"
    },
    "language_info": {
      "name": "python"
    }
  },
  "cells": [
    {
      "cell_type": "code",
      "source": [
        "import pandas as pd\n",
        "import numpy as np\n",
        "\n",
        "from sklearn.model_selection import train_test_split\n",
        "from sklearn.pipeline import Pipeline\n",
        "from sklearn.preprocessing import StandardScaler, PolynomialFeatures\n",
        "from sklearn.linear_model import RidgeCV\n",
        "from sklearn.metrics import r2_score, mean_squared_error\n",
        "\n",
        "# 1) Cargar datos\n",
        "df = pd.read_csv(\"https://github.com/ulewis/Ejemplos/raw/main/Datos/USA_Housing.csv\")\n",
        "\n",
        "# 2) Features / target (quitamos Address si existe)\n",
        "X = df.drop(columns=[\"Price\", \"Address\"], errors=\"ignore\")\n",
        "y = df[\"Price\"]\n",
        "\n",
        "# 3) Train / test\n",
        "X_train, X_test, y_train, y_test = train_test_split(\n",
        "    X, y, test_size=0.2, random_state=42\n",
        ")\n",
        "\n",
        "# 4) Pipeline: escalado + polinómicas + RidgeCV\n",
        "alphas = np.logspace(-3, 3, 50)\n",
        "model = Pipeline(steps=[\n",
        "    (\"poly\", PolynomialFeatures(degree=2, include_bias=False)),  # agrega interacciones\n",
        "    (\"scaler\", StandardScaler()),\n",
        "    (\"ridge\", RidgeCV(alphas=alphas, cv=10))\n",
        "])\n",
        "\n",
        "# 5) Entrenar\n",
        "model.fit(X_train, y_train)\n",
        "\n",
        "# 6) Evaluar\n",
        "y_pred = model.predict(X_test)\n",
        "r2 = r2_score(y_test, y_pred)\n",
        "rmse = np.sqrt(mean_squared_error(y_test, y_pred))\n",
        "\n",
        "print(f\"R^2 test:  {r2:.5f}\")\n",
        "print(f\"RMSE test: {rmse:,.2f}\")\n",
        "print(f\"Mejor alpha (RidgeCV): {model.named_steps['ridge'].alpha_:.5f}\")"
      ],
      "metadata": {
        "colab": {
          "base_uri": "https://localhost:8080/"
        },
        "id": "RjmuUi09yFE5",
        "outputId": "3d0e53bf-d781-4428-cac5-e37d7e0bc12a"
      },
      "execution_count": 3,
      "outputs": [
        {
          "output_type": "stream",
          "name": "stdout",
          "text": [
            "R^2 test:  0.91787\n",
            "RMSE test: 100,521.33\n",
            "Mejor alpha (RidgeCV): 0.86851\n"
          ]
        }
      ]
    }
  ]
}