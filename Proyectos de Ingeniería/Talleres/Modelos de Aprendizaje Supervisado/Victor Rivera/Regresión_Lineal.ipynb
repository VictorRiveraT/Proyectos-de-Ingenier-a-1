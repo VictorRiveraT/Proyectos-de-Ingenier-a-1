{
  "nbformat": 4,
  "nbformat_minor": 0,
  "metadata": {
    "colab": {
      "provenance": []
    },
    "kernelspec": {
      "name": "python3",
      "display_name": "Python 3"
    },
    "language_info": {
      "name": "python"
    }
  },
  "cells": [
    {
      "cell_type": "code",
      "source": [
        "import numpy as np\n",
        "import pandas as pd\n",
        "import matplotlib.pyplot as plt\n",
        "import seaborn as sns\n",
        "\n",
        "from sklearn.model_selection import train_test_split\n",
        "from sklearn.preprocessing import StandardScaler\n",
        "from sklearn.neighbors import KNeighborsClassifier\n",
        "from sklearn.metrics import accuracy_score, classification_report, confusion_matrix"
      ],
      "metadata": {
        "id": "7uZF_pAUDHus"
      },
      "execution_count": 3,
      "outputs": []
    },
    {
      "cell_type": "code",
      "source": [
        "# Cargar dataset\n",
        "url = \"https://github.com/ulewis/Ejemplos/raw/main/Datos/healthcare_dataset.csv\"\n",
        "df = pd.read_csv(url)\n",
        "\n",
        "print(\"Columnas originales:\", df.columns.tolist())"
      ],
      "metadata": {
        "colab": {
          "base_uri": "https://localhost:8080/"
        },
        "id": "JHUUIYNBGZJG",
        "outputId": "f2988058-9c9f-4c82-d9fa-8f602a6e6e8d"
      },
      "execution_count": 4,
      "outputs": [
        {
          "output_type": "stream",
          "name": "stdout",
          "text": [
            "Columnas originales: ['Name', 'Age', 'Gender', 'Blood Type', 'Medical Condition', 'Date of Admission', 'Doctor', 'Hospital', 'Insurance Provider', 'Billing Amount', 'Room Number', 'Admission Type', 'Discharge Date', 'Medication', 'Test Results']\n"
          ]
        }
      ]
    },
    {
      "cell_type": "code",
      "source": [
        "# Target: Billing Amount\n",
        "target = \"Billing Amount\"\n",
        "\n",
        "# Eliminar columnas obviamente irrelevantes (IDs, nombres, etc.)\n",
        "cols_drop = [col for col in df.columns if \"ID\" in col or \"Name\" in col or \"Address\" in col]\n",
        "df = df.drop(columns=cols_drop, errors=\"ignore\")"
      ],
      "metadata": {
        "id": "sJDGzlefGel4"
      },
      "execution_count": 5,
      "outputs": []
    },
    {
      "cell_type": "code",
      "source": [
        "# Eliminar filas con Billing Amount vacío\n",
        "df = df.dropna(subset=[target])\n",
        "\n",
        "# Separar features y target\n",
        "X = df.drop(columns=[target])\n",
        "y_cont = df[target]\n",
        "\n",
        "# Discretizar Billing Amount en clases (ej: 3 clases: bajo, medio, alto)\n",
        "N_CLASES = 3\n",
        "y = pd.qcut(y_cont, q=N_CLASES, labels=False, duplicates=\"drop\")"
      ],
      "metadata": {
        "id": "DVGNX4d8Gp_B"
      },
      "execution_count": 6,
      "outputs": []
    },
    {
      "cell_type": "code",
      "source": [
        "# Convertir variables categóricas a numéricas (one-hot encoding)\n",
        "X = pd.get_dummies(X, drop_first=True)\n",
        "\n",
        "print(\"Shape después de dummies:\", X.shape)\n",
        "\n",
        "# Escalar\n",
        "scaler = StandardScaler()\n",
        "X_scaled = scaler.fit_transform(X)\n",
        "\n",
        "# Split train/test\n",
        "X_train, X_test, y_train, y_test = train_test_split(\n",
        "    X_scaled, y, test_size=0.3, random_state=101, stratify=y\n",
        ")"
      ],
      "metadata": {
        "colab": {
          "base_uri": "https://localhost:8080/"
        },
        "id": "WOvEnv4QGugi",
        "outputId": "ada99d34-3df0-4fe9-82aa-953a0f6cde5b"
      },
      "execution_count": 7,
      "outputs": [
        {
          "output_type": "stream",
          "name": "stdout",
          "text": [
            "Shape después de dummies: (10000, 21727)\n"
          ]
        }
      ]
    },
    {
      "cell_type": "code",
      "source": [
        "# Baseline con k=24\n",
        "knn = KNeighborsClassifier(n_neighbors=24, weights=\"uniform\", p=2)\n",
        "knn.fit(X_train, y_train)\n",
        "pred = knn.predict(X_test)\n",
        "\n",
        "acc = accuracy_score(y_test, pred)\n",
        "err = (1 - acc) * 100\n",
        "print(\"\\n=== BASELINE (k=24) ===\")\n",
        "print(f\"Accuracy : {acc*100:.2f}%\")\n",
        "print(f\"Tasa de error: {err:.2f}%\")\n",
        "print(classification_report(y_test, pred, digits=4))\n"
      ],
      "metadata": {
        "colab": {
          "base_uri": "https://localhost:8080/"
        },
        "id": "8O_jCVa0GVII",
        "outputId": "f988cd80-2499-4232-9fa0-9d9376d91ace"
      },
      "execution_count": 8,
      "outputs": [
        {
          "output_type": "stream",
          "name": "stdout",
          "text": [
            "\n",
            "=== BASELINE (k=24) ===\n",
            "Accuracy : 33.33%\n",
            "Tasa de error: 66.67%\n",
            "              precision    recall  f1-score   support\n",
            "\n",
            "           0     0.0000    0.0000    0.0000      1000\n",
            "           1     0.3333    1.0000    0.5000      1000\n",
            "           2     0.0000    0.0000    0.0000      1000\n",
            "\n",
            "    accuracy                         0.3333      3000\n",
            "   macro avg     0.1111    0.3333    0.1667      3000\n",
            "weighted avg     0.1111    0.3333    0.1667      3000\n",
            "\n"
          ]
        },
        {
          "output_type": "stream",
          "name": "stderr",
          "text": [
            "/usr/local/lib/python3.12/dist-packages/sklearn/metrics/_classification.py:1565: UndefinedMetricWarning: Precision is ill-defined and being set to 0.0 in labels with no predicted samples. Use `zero_division` parameter to control this behavior.\n",
            "  _warn_prf(average, modifier, f\"{metric.capitalize()} is\", len(result))\n",
            "/usr/local/lib/python3.12/dist-packages/sklearn/metrics/_classification.py:1565: UndefinedMetricWarning: Precision is ill-defined and being set to 0.0 in labels with no predicted samples. Use `zero_division` parameter to control this behavior.\n",
            "  _warn_prf(average, modifier, f\"{metric.capitalize()} is\", len(result))\n",
            "/usr/local/lib/python3.12/dist-packages/sklearn/metrics/_classification.py:1565: UndefinedMetricWarning: Precision is ill-defined and being set to 0.0 in labels with no predicted samples. Use `zero_division` parameter to control this behavior.\n",
            "  _warn_prf(average, modifier, f\"{metric.capitalize()} is\", len(result))\n"
          ]
        }
      ]
    }
  ]
}