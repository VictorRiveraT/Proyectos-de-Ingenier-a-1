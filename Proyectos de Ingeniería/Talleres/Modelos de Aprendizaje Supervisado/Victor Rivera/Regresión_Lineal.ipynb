{
  "nbformat": 4,
  "nbformat_minor": 0,
  "metadata": {
    "colab": {
      "provenance": []
    },
    "kernelspec": {
      "name": "python3",
      "display_name": "Python 3"
    },
    "language_info": {
      "name": "python"
    }
  },
  "cells": [
    {
      "cell_type": "code",
      "execution_count": null,
      "metadata": {
        "id": "5-VN3dXN0l2k"
      },
      "outputs": [],
      "source": [
        "import pandas as pd\n",
        "import numpy as np\n",
        "\n",
        "from sklearn.model_selection import train_test_split\n",
        "from sklearn.pipeline import Pipeline\n",
        "from sklearn.preprocessing import StandardScaler, OneHotEncoder, PolynomialFeatures\n",
        "from sklearn.compose import ColumnTransformer\n",
        "from sklearn.linear_model import RidgeCV\n",
        "from sklearn.metrics import r2_score, mean_squared_error\n",
        "\n",
        "# 1) Cargar datos\n",
        "df = pd.read_csv(\"https://github.com/ulewis/Ejemplos/raw/main/Datos/healthcare_dataset.csv\")\n",
        "\n",
        "# 2) Separar target y features\n",
        "y = df[\"Billing Amount\"]   # columna objetivo\n",
        "X = df.drop(columns=[\"Billing Amount\"], errors=\"ignore\")\n",
        "\n",
        "# 3) Identificar columnas categóricas y numéricas\n",
        "cat_cols = X.select_dtypes(include=[\"object\"]).columns\n",
        "num_cols = X.select_dtypes(exclude=[\"object\"]).columns\n",
        "\n",
        "# 4) Preprocesamiento\n",
        "preprocessor = ColumnTransformer(\n",
        "    transformers=[\n",
        "        (\"num\", StandardScaler(), num_cols),\n",
        "        (\"cat\", OneHotEncoder(handle_unknown=\"ignore\"), cat_cols)\n",
        "    ]\n",
        ")\n",
        "\n",
        "# 5) Pipeline con polinómicas + RidgeCV\n",
        "alphas = np.logspace(-3, 3, 50)\n",
        "model = Pipeline(steps=[\n",
        "    (\"preprocess\", preprocessor),\n",
        "    (\"poly\", PolynomialFeatures(degree=2, include_bias=False)),\n",
        "    (\"ridge\", RidgeCV(alphas=alphas, cv=10))\n",
        "])\n",
        "\n",
        "# 6) Train / test split\n",
        "X_train, X_test, y_train, y_test = train_test_split(\n",
        "    X, y, test_size=0.2, random_state=42\n",
        ")\n",
        "\n",
        "# 7) Entrenar modelo\n",
        "model.fit(X_train, y_train)\n",
        "\n",
        "# 8) Evaluar\n",
        "y_pred = model.predict(X_test)\n",
        "r2 = r2_score(y_test, y_pred)\n",
        "rmse = np.sqrt(mean_squared_error(y_test, y_pred))\n",
        "\n",
        "print(f\"R^2 test:  {r2:.5f}\")\n",
        "print(f\"RMSE test: {rmse:,.2f}\")\n",
        "print(f\"Mejor alpha (RidgeCV): {model.named_steps['ridge'].alpha_:.5f}\")"
      ]
    }
  ]
}