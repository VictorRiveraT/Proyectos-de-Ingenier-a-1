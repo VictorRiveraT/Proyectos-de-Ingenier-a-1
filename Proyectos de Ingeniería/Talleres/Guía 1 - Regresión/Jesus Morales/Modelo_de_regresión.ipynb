{
  "nbformat": 4,
  "nbformat_minor": 0,
  "metadata": {
    "colab": {
      "provenance": []
    },
    "kernelspec": {
      "name": "python3",
      "display_name": "Python 3"
    },
    "language_info": {
      "name": "python"
    }
  },
  "cells": [
    {
      "cell_type": "code",
      "execution_count": 1,
      "metadata": {
        "id": "4yo1uxUmJnTv",
        "colab": {
          "base_uri": "https://localhost:8080/"
        },
        "outputId": "73416858-7a04-41c1-f950-1a27a0eeada7"
      },
      "outputs": [
        {
          "output_type": "stream",
          "name": "stdout",
          "text": [
            "\u001b[?25l   \u001b[90m━━━━━━━━━━━━━━━━━━━━━━━━━━━━━━━━━━━━━━━━\u001b[0m \u001b[32m0.0/85.7 kB\u001b[0m \u001b[31m?\u001b[0m eta \u001b[36m-:--:--\u001b[0m\r\u001b[2K   \u001b[90m━━━━━━━━━━━━━━━━━━━━━━━━━━━━━━━━━━━━━━━━\u001b[0m \u001b[32m85.7/85.7 kB\u001b[0m \u001b[31m7.5 MB/s\u001b[0m eta \u001b[36m0:00:00\u001b[0m\n",
            "\u001b[?25h"
          ]
        }
      ],
      "source": [
        "!pip install lightgbm --quiet\n",
        "!pip install category_encoders --quiet\n",
        "!pip install pandas --quiet"
      ]
    },
    {
      "cell_type": "code",
      "source": [
        "# 1) Librerías\n",
        "import pandas as pd\n",
        "import numpy as np\n",
        "from datetime import timedelta\n",
        "import lightgbm as lgb\n",
        "from sklearn.model_selection import train_test_split\n",
        "from sklearn.metrics import mean_squared_error\n",
        "from google.colab import files"
      ],
      "metadata": {
        "id": "5uybOvVHNnyB"
      },
      "execution_count": 2,
      "outputs": []
    },
    {
      "cell_type": "code",
      "source": [
        "# 2) Cargar archivos subidos\n",
        "df1 = pd.read_csv(\"2023.csv\")\n",
        "df2 = pd.read_csv(\"2024.csv\")"
      ],
      "metadata": {
        "id": "WsDHs9OaN1m7"
      },
      "execution_count": 3,
      "outputs": []
    },
    {
      "cell_type": "code",
      "source": [
        "# 3) Unir\n",
        "df = pd.concat([df1, df2], ignore_index=True).copy()"
      ],
      "metadata": {
        "id": "2qmFxr6NN5Rn"
      },
      "execution_count": 4,
      "outputs": []
    },
    {
      "cell_type": "code",
      "source": [
        "df.head()"
      ],
      "metadata": {
        "colab": {
          "base_uri": "https://localhost:8080/",
          "height": 523
        },
        "id": "9lPVhB10OES-",
        "outputId": "da934814-3888-4729-e323-6d1df5c70dc2"
      },
      "execution_count": 6,
      "outputs": [
        {
          "output_type": "execute_result",
          "data": {
            "text/plain": [
              "         Date Source    Site ID  POC  Daily Max 8-hour CO Concentration Units  \\\n",
              "0  01/01/2023    AQS  360050133    1                                0.4   ppm   \n",
              "1  01/02/2023    AQS  360050133    1                                0.4   ppm   \n",
              "2  01/03/2023    AQS  360050133    1                                0.8   ppm   \n",
              "3  01/04/2023    AQS  360050133    1                                0.8   ppm   \n",
              "4  01/05/2023    AQS  360050133    1                                0.3   ppm   \n",
              "\n",
              "   Daily AQI Value  Local Site Name  Daily Obs Count  Percent Complete  ...  \\\n",
              "0                5  PFIZER LAB SITE               19              79.0  ...   \n",
              "1                5  PFIZER LAB SITE               24             100.0  ...   \n",
              "2                9  PFIZER LAB SITE               18              75.0  ...   \n",
              "3                9  PFIZER LAB SITE               24             100.0  ...   \n",
              "4                3  PFIZER LAB SITE               24             100.0  ...   \n",
              "\n",
              "   AQS Parameter Description Method Code  CBSA Code  \\\n",
              "0            Carbon monoxide         593      35620   \n",
              "1            Carbon monoxide         593      35620   \n",
              "2            Carbon monoxide         593      35620   \n",
              "3            Carbon monoxide         593      35620   \n",
              "4            Carbon monoxide         593      35620   \n",
              "\n",
              "                               CBSA Name State FIPS Code     State  \\\n",
              "0  New York-Newark-Jersey City, NY-NJ-PA              36  New York   \n",
              "1  New York-Newark-Jersey City, NY-NJ-PA              36  New York   \n",
              "2  New York-Newark-Jersey City, NY-NJ-PA              36  New York   \n",
              "3  New York-Newark-Jersey City, NY-NJ-PA              36  New York   \n",
              "4  New York-Newark-Jersey City, NY-NJ-PA              36  New York   \n",
              "\n",
              "  County FIPS Code  County Site Latitude  Site Longitude  \n",
              "0                5   Bronx       40.8679       -73.87809  \n",
              "1                5   Bronx       40.8679       -73.87809  \n",
              "2                5   Bronx       40.8679       -73.87809  \n",
              "3                5   Bronx       40.8679       -73.87809  \n",
              "4                5   Bronx       40.8679       -73.87809  \n",
              "\n",
              "[5 rows x 21 columns]"
            ],
            "text/html": [
              "\n",
              "  <div id=\"df-ff3a37d5-c97a-4242-a06b-70af6b9cc935\" class=\"colab-df-container\">\n",
              "    <div>\n",
              "<style scoped>\n",
              "    .dataframe tbody tr th:only-of-type {\n",
              "        vertical-align: middle;\n",
              "    }\n",
              "\n",
              "    .dataframe tbody tr th {\n",
              "        vertical-align: top;\n",
              "    }\n",
              "\n",
              "    .dataframe thead th {\n",
              "        text-align: right;\n",
              "    }\n",
              "</style>\n",
              "<table border=\"1\" class=\"dataframe\">\n",
              "  <thead>\n",
              "    <tr style=\"text-align: right;\">\n",
              "      <th></th>\n",
              "      <th>Date</th>\n",
              "      <th>Source</th>\n",
              "      <th>Site ID</th>\n",
              "      <th>POC</th>\n",
              "      <th>Daily Max 8-hour CO Concentration</th>\n",
              "      <th>Units</th>\n",
              "      <th>Daily AQI Value</th>\n",
              "      <th>Local Site Name</th>\n",
              "      <th>Daily Obs Count</th>\n",
              "      <th>Percent Complete</th>\n",
              "      <th>...</th>\n",
              "      <th>AQS Parameter Description</th>\n",
              "      <th>Method Code</th>\n",
              "      <th>CBSA Code</th>\n",
              "      <th>CBSA Name</th>\n",
              "      <th>State FIPS Code</th>\n",
              "      <th>State</th>\n",
              "      <th>County FIPS Code</th>\n",
              "      <th>County</th>\n",
              "      <th>Site Latitude</th>\n",
              "      <th>Site Longitude</th>\n",
              "    </tr>\n",
              "  </thead>\n",
              "  <tbody>\n",
              "    <tr>\n",
              "      <th>0</th>\n",
              "      <td>01/01/2023</td>\n",
              "      <td>AQS</td>\n",
              "      <td>360050133</td>\n",
              "      <td>1</td>\n",
              "      <td>0.4</td>\n",
              "      <td>ppm</td>\n",
              "      <td>5</td>\n",
              "      <td>PFIZER LAB SITE</td>\n",
              "      <td>19</td>\n",
              "      <td>79.0</td>\n",
              "      <td>...</td>\n",
              "      <td>Carbon monoxide</td>\n",
              "      <td>593</td>\n",
              "      <td>35620</td>\n",
              "      <td>New York-Newark-Jersey City, NY-NJ-PA</td>\n",
              "      <td>36</td>\n",
              "      <td>New York</td>\n",
              "      <td>5</td>\n",
              "      <td>Bronx</td>\n",
              "      <td>40.8679</td>\n",
              "      <td>-73.87809</td>\n",
              "    </tr>\n",
              "    <tr>\n",
              "      <th>1</th>\n",
              "      <td>01/02/2023</td>\n",
              "      <td>AQS</td>\n",
              "      <td>360050133</td>\n",
              "      <td>1</td>\n",
              "      <td>0.4</td>\n",
              "      <td>ppm</td>\n",
              "      <td>5</td>\n",
              "      <td>PFIZER LAB SITE</td>\n",
              "      <td>24</td>\n",
              "      <td>100.0</td>\n",
              "      <td>...</td>\n",
              "      <td>Carbon monoxide</td>\n",
              "      <td>593</td>\n",
              "      <td>35620</td>\n",
              "      <td>New York-Newark-Jersey City, NY-NJ-PA</td>\n",
              "      <td>36</td>\n",
              "      <td>New York</td>\n",
              "      <td>5</td>\n",
              "      <td>Bronx</td>\n",
              "      <td>40.8679</td>\n",
              "      <td>-73.87809</td>\n",
              "    </tr>\n",
              "    <tr>\n",
              "      <th>2</th>\n",
              "      <td>01/03/2023</td>\n",
              "      <td>AQS</td>\n",
              "      <td>360050133</td>\n",
              "      <td>1</td>\n",
              "      <td>0.8</td>\n",
              "      <td>ppm</td>\n",
              "      <td>9</td>\n",
              "      <td>PFIZER LAB SITE</td>\n",
              "      <td>18</td>\n",
              "      <td>75.0</td>\n",
              "      <td>...</td>\n",
              "      <td>Carbon monoxide</td>\n",
              "      <td>593</td>\n",
              "      <td>35620</td>\n",
              "      <td>New York-Newark-Jersey City, NY-NJ-PA</td>\n",
              "      <td>36</td>\n",
              "      <td>New York</td>\n",
              "      <td>5</td>\n",
              "      <td>Bronx</td>\n",
              "      <td>40.8679</td>\n",
              "      <td>-73.87809</td>\n",
              "    </tr>\n",
              "    <tr>\n",
              "      <th>3</th>\n",
              "      <td>01/04/2023</td>\n",
              "      <td>AQS</td>\n",
              "      <td>360050133</td>\n",
              "      <td>1</td>\n",
              "      <td>0.8</td>\n",
              "      <td>ppm</td>\n",
              "      <td>9</td>\n",
              "      <td>PFIZER LAB SITE</td>\n",
              "      <td>24</td>\n",
              "      <td>100.0</td>\n",
              "      <td>...</td>\n",
              "      <td>Carbon monoxide</td>\n",
              "      <td>593</td>\n",
              "      <td>35620</td>\n",
              "      <td>New York-Newark-Jersey City, NY-NJ-PA</td>\n",
              "      <td>36</td>\n",
              "      <td>New York</td>\n",
              "      <td>5</td>\n",
              "      <td>Bronx</td>\n",
              "      <td>40.8679</td>\n",
              "      <td>-73.87809</td>\n",
              "    </tr>\n",
              "    <tr>\n",
              "      <th>4</th>\n",
              "      <td>01/05/2023</td>\n",
              "      <td>AQS</td>\n",
              "      <td>360050133</td>\n",
              "      <td>1</td>\n",
              "      <td>0.3</td>\n",
              "      <td>ppm</td>\n",
              "      <td>3</td>\n",
              "      <td>PFIZER LAB SITE</td>\n",
              "      <td>24</td>\n",
              "      <td>100.0</td>\n",
              "      <td>...</td>\n",
              "      <td>Carbon monoxide</td>\n",
              "      <td>593</td>\n",
              "      <td>35620</td>\n",
              "      <td>New York-Newark-Jersey City, NY-NJ-PA</td>\n",
              "      <td>36</td>\n",
              "      <td>New York</td>\n",
              "      <td>5</td>\n",
              "      <td>Bronx</td>\n",
              "      <td>40.8679</td>\n",
              "      <td>-73.87809</td>\n",
              "    </tr>\n",
              "  </tbody>\n",
              "</table>\n",
              "<p>5 rows × 21 columns</p>\n",
              "</div>\n",
              "    <div class=\"colab-df-buttons\">\n",
              "\n",
              "  <div class=\"colab-df-container\">\n",
              "    <button class=\"colab-df-convert\" onclick=\"convertToInteractive('df-ff3a37d5-c97a-4242-a06b-70af6b9cc935')\"\n",
              "            title=\"Convert this dataframe to an interactive table.\"\n",
              "            style=\"display:none;\">\n",
              "\n",
              "  <svg xmlns=\"http://www.w3.org/2000/svg\" height=\"24px\" viewBox=\"0 -960 960 960\">\n",
              "    <path d=\"M120-120v-720h720v720H120Zm60-500h600v-160H180v160Zm220 220h160v-160H400v160Zm0 220h160v-160H400v160ZM180-400h160v-160H180v160Zm440 0h160v-160H620v160ZM180-180h160v-160H180v160Zm440 0h160v-160H620v160Z\"/>\n",
              "  </svg>\n",
              "    </button>\n",
              "\n",
              "  <style>\n",
              "    .colab-df-container {\n",
              "      display:flex;\n",
              "      gap: 12px;\n",
              "    }\n",
              "\n",
              "    .colab-df-convert {\n",
              "      background-color: #E8F0FE;\n",
              "      border: none;\n",
              "      border-radius: 50%;\n",
              "      cursor: pointer;\n",
              "      display: none;\n",
              "      fill: #1967D2;\n",
              "      height: 32px;\n",
              "      padding: 0 0 0 0;\n",
              "      width: 32px;\n",
              "    }\n",
              "\n",
              "    .colab-df-convert:hover {\n",
              "      background-color: #E2EBFA;\n",
              "      box-shadow: 0px 1px 2px rgba(60, 64, 67, 0.3), 0px 1px 3px 1px rgba(60, 64, 67, 0.15);\n",
              "      fill: #174EA6;\n",
              "    }\n",
              "\n",
              "    .colab-df-buttons div {\n",
              "      margin-bottom: 4px;\n",
              "    }\n",
              "\n",
              "    [theme=dark] .colab-df-convert {\n",
              "      background-color: #3B4455;\n",
              "      fill: #D2E3FC;\n",
              "    }\n",
              "\n",
              "    [theme=dark] .colab-df-convert:hover {\n",
              "      background-color: #434B5C;\n",
              "      box-shadow: 0px 1px 3px 1px rgba(0, 0, 0, 0.15);\n",
              "      filter: drop-shadow(0px 1px 2px rgba(0, 0, 0, 0.3));\n",
              "      fill: #FFFFFF;\n",
              "    }\n",
              "  </style>\n",
              "\n",
              "    <script>\n",
              "      const buttonEl =\n",
              "        document.querySelector('#df-ff3a37d5-c97a-4242-a06b-70af6b9cc935 button.colab-df-convert');\n",
              "      buttonEl.style.display =\n",
              "        google.colab.kernel.accessAllowed ? 'block' : 'none';\n",
              "\n",
              "      async function convertToInteractive(key) {\n",
              "        const element = document.querySelector('#df-ff3a37d5-c97a-4242-a06b-70af6b9cc935');\n",
              "        const dataTable =\n",
              "          await google.colab.kernel.invokeFunction('convertToInteractive',\n",
              "                                                    [key], {});\n",
              "        if (!dataTable) return;\n",
              "\n",
              "        const docLinkHtml = 'Like what you see? Visit the ' +\n",
              "          '<a target=\"_blank\" href=https://colab.research.google.com/notebooks/data_table.ipynb>data table notebook</a>'\n",
              "          + ' to learn more about interactive tables.';\n",
              "        element.innerHTML = '';\n",
              "        dataTable['output_type'] = 'display_data';\n",
              "        await google.colab.output.renderOutput(dataTable, element);\n",
              "        const docLink = document.createElement('div');\n",
              "        docLink.innerHTML = docLinkHtml;\n",
              "        element.appendChild(docLink);\n",
              "      }\n",
              "    </script>\n",
              "  </div>\n",
              "\n",
              "\n",
              "    <div id=\"df-2991254c-6fbb-40fc-825f-973507083d26\">\n",
              "      <button class=\"colab-df-quickchart\" onclick=\"quickchart('df-2991254c-6fbb-40fc-825f-973507083d26')\"\n",
              "                title=\"Suggest charts\"\n",
              "                style=\"display:none;\">\n",
              "\n",
              "<svg xmlns=\"http://www.w3.org/2000/svg\" height=\"24px\"viewBox=\"0 0 24 24\"\n",
              "     width=\"24px\">\n",
              "    <g>\n",
              "        <path d=\"M19 3H5c-1.1 0-2 .9-2 2v14c0 1.1.9 2 2 2h14c1.1 0 2-.9 2-2V5c0-1.1-.9-2-2-2zM9 17H7v-7h2v7zm4 0h-2V7h2v10zm4 0h-2v-4h2v4z\"/>\n",
              "    </g>\n",
              "</svg>\n",
              "      </button>\n",
              "\n",
              "<style>\n",
              "  .colab-df-quickchart {\n",
              "      --bg-color: #E8F0FE;\n",
              "      --fill-color: #1967D2;\n",
              "      --hover-bg-color: #E2EBFA;\n",
              "      --hover-fill-color: #174EA6;\n",
              "      --disabled-fill-color: #AAA;\n",
              "      --disabled-bg-color: #DDD;\n",
              "  }\n",
              "\n",
              "  [theme=dark] .colab-df-quickchart {\n",
              "      --bg-color: #3B4455;\n",
              "      --fill-color: #D2E3FC;\n",
              "      --hover-bg-color: #434B5C;\n",
              "      --hover-fill-color: #FFFFFF;\n",
              "      --disabled-bg-color: #3B4455;\n",
              "      --disabled-fill-color: #666;\n",
              "  }\n",
              "\n",
              "  .colab-df-quickchart {\n",
              "    background-color: var(--bg-color);\n",
              "    border: none;\n",
              "    border-radius: 50%;\n",
              "    cursor: pointer;\n",
              "    display: none;\n",
              "    fill: var(--fill-color);\n",
              "    height: 32px;\n",
              "    padding: 0;\n",
              "    width: 32px;\n",
              "  }\n",
              "\n",
              "  .colab-df-quickchart:hover {\n",
              "    background-color: var(--hover-bg-color);\n",
              "    box-shadow: 0 1px 2px rgba(60, 64, 67, 0.3), 0 1px 3px 1px rgba(60, 64, 67, 0.15);\n",
              "    fill: var(--button-hover-fill-color);\n",
              "  }\n",
              "\n",
              "  .colab-df-quickchart-complete:disabled,\n",
              "  .colab-df-quickchart-complete:disabled:hover {\n",
              "    background-color: var(--disabled-bg-color);\n",
              "    fill: var(--disabled-fill-color);\n",
              "    box-shadow: none;\n",
              "  }\n",
              "\n",
              "  .colab-df-spinner {\n",
              "    border: 2px solid var(--fill-color);\n",
              "    border-color: transparent;\n",
              "    border-bottom-color: var(--fill-color);\n",
              "    animation:\n",
              "      spin 1s steps(1) infinite;\n",
              "  }\n",
              "\n",
              "  @keyframes spin {\n",
              "    0% {\n",
              "      border-color: transparent;\n",
              "      border-bottom-color: var(--fill-color);\n",
              "      border-left-color: var(--fill-color);\n",
              "    }\n",
              "    20% {\n",
              "      border-color: transparent;\n",
              "      border-left-color: var(--fill-color);\n",
              "      border-top-color: var(--fill-color);\n",
              "    }\n",
              "    30% {\n",
              "      border-color: transparent;\n",
              "      border-left-color: var(--fill-color);\n",
              "      border-top-color: var(--fill-color);\n",
              "      border-right-color: var(--fill-color);\n",
              "    }\n",
              "    40% {\n",
              "      border-color: transparent;\n",
              "      border-right-color: var(--fill-color);\n",
              "      border-top-color: var(--fill-color);\n",
              "    }\n",
              "    60% {\n",
              "      border-color: transparent;\n",
              "      border-right-color: var(--fill-color);\n",
              "    }\n",
              "    80% {\n",
              "      border-color: transparent;\n",
              "      border-right-color: var(--fill-color);\n",
              "      border-bottom-color: var(--fill-color);\n",
              "    }\n",
              "    90% {\n",
              "      border-color: transparent;\n",
              "      border-bottom-color: var(--fill-color);\n",
              "    }\n",
              "  }\n",
              "</style>\n",
              "\n",
              "      <script>\n",
              "        async function quickchart(key) {\n",
              "          const quickchartButtonEl =\n",
              "            document.querySelector('#' + key + ' button');\n",
              "          quickchartButtonEl.disabled = true;  // To prevent multiple clicks.\n",
              "          quickchartButtonEl.classList.add('colab-df-spinner');\n",
              "          try {\n",
              "            const charts = await google.colab.kernel.invokeFunction(\n",
              "                'suggestCharts', [key], {});\n",
              "          } catch (error) {\n",
              "            console.error('Error during call to suggestCharts:', error);\n",
              "          }\n",
              "          quickchartButtonEl.classList.remove('colab-df-spinner');\n",
              "          quickchartButtonEl.classList.add('colab-df-quickchart-complete');\n",
              "        }\n",
              "        (() => {\n",
              "          let quickchartButtonEl =\n",
              "            document.querySelector('#df-2991254c-6fbb-40fc-825f-973507083d26 button');\n",
              "          quickchartButtonEl.style.display =\n",
              "            google.colab.kernel.accessAllowed ? 'block' : 'none';\n",
              "        })();\n",
              "      </script>\n",
              "    </div>\n",
              "\n",
              "    </div>\n",
              "  </div>\n"
            ],
            "application/vnd.google.colaboratory.intrinsic+json": {
              "type": "dataframe",
              "variable_name": "df"
            }
          },
          "metadata": {},
          "execution_count": 6
        },
        {
          "output_type": "stream",
          "name": "stdout",
          "text": [
            "Warning: Total number of columns (21) exceeds max_columns (20) limiting to first (20) columns.\n"
          ]
        }
      ]
    },
    {
      "cell_type": "code",
      "source": [
        "df.info(verbose=True)"
      ],
      "metadata": {
        "colab": {
          "base_uri": "https://localhost:8080/"
        },
        "id": "KXRw4kdlOlZ3",
        "outputId": "a37712db-7a93-4c10-ddea-893c69086168"
      },
      "execution_count": 7,
      "outputs": [
        {
          "output_type": "stream",
          "name": "stdout",
          "text": [
            "<class 'pandas.core.frame.DataFrame'>\n",
            "RangeIndex: 6939 entries, 0 to 6938\n",
            "Data columns (total 21 columns):\n",
            " #   Column                             Non-Null Count  Dtype  \n",
            "---  ------                             --------------  -----  \n",
            " 0   Date                               6939 non-null   object \n",
            " 1   Source                             6939 non-null   object \n",
            " 2   Site ID                            6939 non-null   int64  \n",
            " 3   POC                                6939 non-null   int64  \n",
            " 4   Daily Max 8-hour CO Concentration  6939 non-null   float64\n",
            " 5   Units                              6939 non-null   object \n",
            " 6   Daily AQI Value                    6939 non-null   int64  \n",
            " 7   Local Site Name                    6939 non-null   object \n",
            " 8   Daily Obs Count                    6939 non-null   int64  \n",
            " 9   Percent Complete                   6939 non-null   float64\n",
            " 10  AQS Parameter Code                 6939 non-null   int64  \n",
            " 11  AQS Parameter Description          6939 non-null   object \n",
            " 12  Method Code                        6939 non-null   int64  \n",
            " 13  CBSA Code                          6939 non-null   int64  \n",
            " 14  CBSA Name                          6939 non-null   object \n",
            " 15  State FIPS Code                    6939 non-null   int64  \n",
            " 16  State                              6939 non-null   object \n",
            " 17  County FIPS Code                   6939 non-null   int64  \n",
            " 18  County                             6939 non-null   object \n",
            " 19  Site Latitude                      6939 non-null   float64\n",
            " 20  Site Longitude                     6939 non-null   float64\n",
            "dtypes: float64(4), int64(9), object(8)\n",
            "memory usage: 1.1+ MB\n"
          ]
        }
      ]
    },
    {
      "cell_type": "code",
      "source": [
        "# 4) Normalizar nombres (por si vienen con espacios extra)\n",
        "df.columns = [c.strip() for c in df.columns]"
      ],
      "metadata": {
        "id": "6IP5s_qeN7qf"
      },
      "execution_count": 5,
      "outputs": []
    },
    {
      "cell_type": "code",
      "source": [
        "# 5) Asegurar formato de fecha\n",
        "df['Date'] = pd.to_datetime(df['Date'], dayfirst=False, errors='coerce')"
      ],
      "metadata": {
        "id": "WtAtEXhlN99J"
      },
      "execution_count": 8,
      "outputs": []
    },
    {
      "cell_type": "code",
      "source": [
        "# 6) Renombrar columna objetivo a 'CO' si viene con nombre largo\n",
        "# Busca columna que contenga 'Daily Max' y 'CO' (según lo compartido)\n",
        "target_cols = [c for c in df.columns if 'Daily Max' in c and 'CO' in c]\n",
        "if len(target_cols)==0:\n",
        "    raise ValueError(\"No encontré la columna objetivo. Revisa los nombres de columnas.\")\n",
        "target_col = target_cols[0]\n",
        "df = df.rename(columns={target_col: 'CO'})"
      ],
      "metadata": {
        "id": "_4ErD_LTPSkC"
      },
      "execution_count": 9,
      "outputs": []
    },
    {
      "cell_type": "code",
      "source": [
        "# 7) Ordenar y reset index\n",
        "df = df.sort_values('Date').reset_index(drop=True)"
      ],
      "metadata": {
        "id": "1WAhjwNpPW3_"
      },
      "execution_count": 10,
      "outputs": []
    },
    {
      "cell_type": "code",
      "source": [
        "# 8) Imputar/limpiar CO y columnas numéricas básicas\n",
        "df['CO'] = pd.to_numeric(df['CO'], errors='coerce')"
      ],
      "metadata": {
        "id": "QqHVmOrpPZuY"
      },
      "execution_count": 11,
      "outputs": []
    },
    {
      "cell_type": "code",
      "source": [
        "# Opcional: eliminar filas sin fecha\n",
        "df = df[~df['Date'].isna()].copy()"
      ],
      "metadata": {
        "id": "zBRRGQb5Pa6H"
      },
      "execution_count": 12,
      "outputs": []
    },
    {
      "cell_type": "code",
      "source": [
        "# 9) Asegurar que para cada site/date haya solo una fila.\n",
        "# Si tienes múltiples registros por estación/día, podrías agrupar por mean:\n",
        "group_cols = ['Date','Site ID']\n",
        "if 'Site ID' not in df.columns:\n",
        "    # si no existe site id, creamos una sola 'site'\n",
        "    df['Site ID'] = 'ALL'\n",
        "else:\n",
        "    # puede tener espacios/luego normalizamos:\n",
        "    df['Site ID'] = df['Site ID'].astype(str).str.strip()\n",
        "\n",
        "df = df.groupby(group_cols, as_index=False).agg({\n",
        "    'CO':'mean',\n",
        "    # mantener algunas columnas útiles (take first)\n",
        "    'Daily AQI Value': 'first' if 'Daily AQI Value' in df.columns else 'first',\n",
        "    'Percent Complete': 'first' if 'Percent Complete' in df.columns else 'first',\n",
        "    'Local Site Name': 'first' if 'Local Site Name' in df.columns else 'first',\n",
        "    'Site Latitude': 'first' if 'Site Latitude' in df.columns else 'first',\n",
        "    'Site Longitude': 'first' if 'Site Longitude' in df.columns else 'first'\n",
        "})"
      ],
      "metadata": {
        "id": "odCs5T92Pd3A"
      },
      "execution_count": 13,
      "outputs": []
    },
    {
      "cell_type": "code",
      "source": [
        "# 10) Reindex: crear rango de fechas por site para garantizar continuidad (rellenado NA)\n",
        "sites = df['Site ID'].unique().tolist()\n",
        "full = []\n",
        "for s in sites:\n",
        "    tmp = df[df['Site ID']==s].set_index('Date').sort_index()\n",
        "    idx = pd.date_range(tmp.index.min(), tmp.index.max(), freq='D')\n",
        "    tmp = tmp.reindex(idx)\n",
        "    tmp['Site ID'] = s\n",
        "    tmp.index.name = 'Date'\n",
        "    full.append(tmp.reset_index())\n",
        "df = pd.concat(full, ignore_index=True).sort_values(['Site ID','Date']).reset_index(drop=True)"
      ],
      "metadata": {
        "id": "QiH_7Is9PpXR"
      },
      "execution_count": 14,
      "outputs": []
    },
    {
      "cell_type": "code",
      "source": [
        "# Asegurar que 'Date' es datetime\n",
        "df['Date'] = pd.to_datetime(df['Date'])"
      ],
      "metadata": {
        "id": "w7G488y4QBJ1"
      },
      "execution_count": 20,
      "outputs": []
    },
    {
      "cell_type": "code",
      "source": [
        "# Ordenamos por Site ID y fecha (importante)\n",
        "df = df.sort_values(['Site ID', 'Date'])"
      ],
      "metadata": {
        "id": "gGFzrRgLQQla"
      },
      "execution_count": 21,
      "outputs": []
    },
    {
      "cell_type": "code",
      "source": [
        "# Imputamos CO respetando fechas\n",
        "def interpolate_group(g):\n",
        "    return (\n",
        "        g.set_index('Date')['CO']  # usar Date como índice\n",
        "         .interpolate(method='time')  # interpolar en base al tiempo\n",
        "         .ffill()  # rellenar hacia adelante\n",
        "         .bfill()  # rellenar hacia atrás\n",
        "    )"
      ],
      "metadata": {
        "id": "BpZRvwtZQeGN"
      },
      "execution_count": 22,
      "outputs": []
    },
    {
      "cell_type": "code",
      "source": [
        "# 11) Imputar CO hacia adelante/atrás razonablemente (o usa interpolación)\n",
        "df['CO'] = df.groupby('Site ID', group_keys=False).apply(interpolate_group).reset_index(drop=True)\n"
      ],
      "metadata": {
        "colab": {
          "base_uri": "https://localhost:8080/"
        },
        "id": "iXKA8MJ-PscM",
        "outputId": "9253d2d2-26f2-49ff-f504-56a6a762a3fe"
      },
      "execution_count": 23,
      "outputs": [
        {
          "output_type": "stream",
          "name": "stderr",
          "text": [
            "/tmp/ipython-input-4000200755.py:2: DeprecationWarning: DataFrameGroupBy.apply operated on the grouping columns. This behavior is deprecated, and in a future version of pandas the grouping columns will be excluded from the operation. Either pass `include_groups=False` to exclude the groupings or explicitly select the grouping columns after groupby to silence this warning.\n",
            "  df['CO'] = df.groupby('Site ID', group_keys=False).apply(interpolate_group).reset_index(drop=True)\n"
          ]
        }
      ]
    },
    {
      "cell_type": "code",
      "source": [
        "print(df.head())"
      ],
      "metadata": {
        "colab": {
          "base_uri": "https://localhost:8080/"
        },
        "id": "YhKoxLoNQ2xG",
        "outputId": "a5eb84f2-661b-410d-8d01-45f3addb26cf"
      },
      "execution_count": 24,
      "outputs": [
        {
          "output_type": "stream",
          "name": "stdout",
          "text": [
            "        Date    Site ID   CO  Daily AQI Value  Percent Complete  \\\n",
            "0 2023-01-01  360050133  0.4              5.0              79.0   \n",
            "1 2023-01-02  360050133  0.4              5.0             100.0   \n",
            "2 2023-01-03  360050133  0.8              9.0              75.0   \n",
            "3 2023-01-04  360050133  0.8              9.0             100.0   \n",
            "4 2023-01-05  360050133  0.3              3.0             100.0   \n",
            "\n",
            "   Local Site Name  Site Latitude  Site Longitude  \n",
            "0  PFIZER LAB SITE        40.8679       -73.87809  \n",
            "1  PFIZER LAB SITE        40.8679       -73.87809  \n",
            "2  PFIZER LAB SITE        40.8679       -73.87809  \n",
            "3  PFIZER LAB SITE        40.8679       -73.87809  \n",
            "4  PFIZER LAB SITE        40.8679       -73.87809  \n"
          ]
        }
      ]
    },
    {
      "cell_type": "code",
      "source": [
        "# Revisar un sitio específico antes y después de imputar\n",
        "site = df['Site ID'].iloc[0]\n",
        "print(df[df['Site ID'] == site][['Date','CO']].head(20))"
      ],
      "metadata": {
        "colab": {
          "base_uri": "https://localhost:8080/"
        },
        "id": "vg9ALcNzRCFc",
        "outputId": "a6de5fea-d003-44c2-aa51-322f14000f1f"
      },
      "execution_count": 25,
      "outputs": [
        {
          "output_type": "stream",
          "name": "stdout",
          "text": [
            "         Date   CO\n",
            "0  2023-01-01  0.4\n",
            "1  2023-01-02  0.4\n",
            "2  2023-01-03  0.8\n",
            "3  2023-01-04  0.8\n",
            "4  2023-01-05  0.3\n",
            "5  2023-01-06  0.4\n",
            "6  2023-01-07  0.3\n",
            "7  2023-01-08  0.3\n",
            "8  2023-01-09  0.3\n",
            "9  2023-01-10  0.3\n",
            "10 2023-01-11  0.3\n",
            "11 2023-01-12  0.3\n",
            "12 2023-01-13  0.3\n",
            "13 2023-01-14  0.2\n",
            "14 2023-01-15  0.1\n",
            "15 2023-01-16  0.4\n",
            "16 2023-01-17  0.6\n",
            "17 2023-01-18  0.5\n",
            "18 2023-01-19  0.5\n",
            "19 2023-01-20  0.4\n"
          ]
        }
      ]
    },
    {
      "cell_type": "code",
      "source": [
        "# 12) Crear features de fecha y lags/rolling\n",
        "def create_ts_features(df):\n",
        "    df['dayofweek'] = df['Date'].dt.weekday\n",
        "    df['day'] = df['Date'].dt.day\n",
        "    df['month'] = df['Date'].dt.month\n",
        "    df['dayofyear'] = df['Date'].dt.dayofyear\n",
        "    df['is_weekend'] = df['dayofweek'].isin([5,6]).astype(int)\n",
        "    # lags y rolling (por sitio)\n",
        "    lags = [1,2,3,7,14,30]\n",
        "    for l in lags:\n",
        "        df[f'lag_{l}'] = df.groupby('Site ID')['CO'].shift(l)\n",
        "    # rolling means\n",
        "    df['rolling_7'] = df.groupby('Site ID')['CO'].shift(1).rolling(window=7, min_periods=1).mean().reset_index(level=0, drop=True)\n",
        "    df['rolling_30'] = df.groupby('Site ID')['CO'].shift(1).rolling(window=30, min_periods=1).mean().reset_index(level=0, drop=True)\n",
        "    return df\n",
        "\n",
        "df = create_ts_features(df)"
      ],
      "metadata": {
        "id": "RaUgHmCMREnu"
      },
      "execution_count": 26,
      "outputs": []
    },
    {
      "cell_type": "code",
      "source": [
        "# 13) Filtrar filas con NA en lags (las primeras filas tendrán NA)\n",
        "df_model = df.dropna(subset=['lag_1']).copy()  # requiere al menos lag_1"
      ],
      "metadata": {
        "id": "kWJQ6pa5ROYu"
      },
      "execution_count": 27,
      "outputs": []
    },
    {
      "cell_type": "code",
      "source": [
        "# 14) Columnas útiles para modelar\n",
        "feature_cols = [c for c in df_model.columns if c not in ['CO','Local Site Name']]\n",
        "# pero quitamos 'Date'\n",
        "feature_cols = [c for c in feature_cols if c!='Date']"
      ],
      "metadata": {
        "id": "E1dqUDSrRQoR"
      },
      "execution_count": 28,
      "outputs": []
    },
    {
      "cell_type": "code",
      "source": [
        "# 15) Convertir Site ID a categórica con encoding sencillo (LightGBM acepta categoricals por índice)\n",
        "df_model['Site ID'] = df_model['Site ID'].astype('category')"
      ],
      "metadata": {
        "id": "hPFslfTLRS62"
      },
      "execution_count": 29,
      "outputs": []
    },
    {
      "cell_type": "code",
      "source": [
        "# 16) División train/valid: entrenamos con todo hasta 2024 (tenemos solo 2023+2024), valid split por tiempo\n",
        "train = df_model[df_model['Date'] < pd.to_datetime(\"2024-10-01\")]  # ejemplo split por fecha\n",
        "valid = df_model[df_model['Date'] >= pd.to_datetime(\"2024-10-01\")]\n",
        "\n",
        "X_train = train[feature_cols]\n",
        "y_train = train['CO']\n",
        "X_valid = valid[feature_cols]\n",
        "y_valid = valid['CO']"
      ],
      "metadata": {
        "id": "JilNDx_pRZaI"
      },
      "execution_count": 30,
      "outputs": []
    },
    {
      "cell_type": "code",
      "source": [
        "import lightgbm as lgb\n",
        "from lightgbm import early_stopping, log_evaluation\n",
        "\n",
        "# 17) Entrenar modelo con LightGBM y early stopping\n",
        "model = lgb.train(\n",
        "    params,\n",
        "    lgb_train,\n",
        "    valid_sets=[lgb_train, lgb_valid],\n",
        "    num_boost_round=2000,\n",
        "    callbacks=[early_stopping(50), log_evaluation(50)]\n",
        ")"
      ],
      "metadata": {
        "colab": {
          "base_uri": "https://localhost:8080/"
        },
        "id": "CHxlE60pReKW",
        "outputId": "338b18f0-15a7-4bdf-b943-3b79aa88083d"
      },
      "execution_count": 32,
      "outputs": [
        {
          "output_type": "stream",
          "name": "stdout",
          "text": [
            "Training until validation scores don't improve for 50 rounds\n",
            "[50]\ttraining's rmse: 0.0150101\tvalid_1's rmse: 0.0185018\n",
            "[100]\ttraining's rmse: 0.00883877\tvalid_1's rmse: 0.0115688\n",
            "[150]\ttraining's rmse: 0.0073473\tvalid_1's rmse: 0.00927439\n",
            "[200]\ttraining's rmse: 0.00654731\tvalid_1's rmse: 0.00842249\n",
            "[250]\ttraining's rmse: 0.00597182\tvalid_1's rmse: 0.00782721\n",
            "[300]\ttraining's rmse: 0.00548924\tvalid_1's rmse: 0.00738904\n",
            "[350]\ttraining's rmse: 0.00507838\tvalid_1's rmse: 0.00704393\n",
            "[400]\ttraining's rmse: 0.00473293\tvalid_1's rmse: 0.00682122\n",
            "[450]\ttraining's rmse: 0.00441975\tvalid_1's rmse: 0.00658662\n",
            "[500]\ttraining's rmse: 0.00414946\tvalid_1's rmse: 0.00644112\n",
            "[550]\ttraining's rmse: 0.00389448\tvalid_1's rmse: 0.0062976\n",
            "[600]\ttraining's rmse: 0.00365217\tvalid_1's rmse: 0.00615064\n",
            "[650]\ttraining's rmse: 0.00338501\tvalid_1's rmse: 0.00603756\n",
            "[700]\ttraining's rmse: 0.00312971\tvalid_1's rmse: 0.00588962\n",
            "[750]\ttraining's rmse: 0.00289837\tvalid_1's rmse: 0.00571827\n",
            "[800]\ttraining's rmse: 0.00271293\tvalid_1's rmse: 0.00560851\n",
            "[850]\ttraining's rmse: 0.00255894\tvalid_1's rmse: 0.00549185\n",
            "[900]\ttraining's rmse: 0.00243125\tvalid_1's rmse: 0.00539078\n",
            "[950]\ttraining's rmse: 0.00231723\tvalid_1's rmse: 0.00531077\n",
            "[1000]\ttraining's rmse: 0.00221664\tvalid_1's rmse: 0.00524165\n",
            "[1050]\ttraining's rmse: 0.00212039\tvalid_1's rmse: 0.00516353\n",
            "[1100]\ttraining's rmse: 0.00203443\tvalid_1's rmse: 0.00512633\n",
            "[1150]\ttraining's rmse: 0.00195219\tvalid_1's rmse: 0.00508469\n",
            "[1200]\ttraining's rmse: 0.001877\tvalid_1's rmse: 0.00504203\n",
            "[1250]\ttraining's rmse: 0.00180595\tvalid_1's rmse: 0.00501601\n",
            "[1300]\ttraining's rmse: 0.00173949\tvalid_1's rmse: 0.00499757\n",
            "[1350]\ttraining's rmse: 0.00167615\tvalid_1's rmse: 0.00498305\n",
            "[1400]\ttraining's rmse: 0.00161534\tvalid_1's rmse: 0.00497229\n",
            "[1450]\ttraining's rmse: 0.00155788\tvalid_1's rmse: 0.00496138\n",
            "[1500]\ttraining's rmse: 0.00150351\tvalid_1's rmse: 0.00495605\n",
            "[1550]\ttraining's rmse: 0.00145206\tvalid_1's rmse: 0.00495118\n",
            "[1600]\ttraining's rmse: 0.0014014\tvalid_1's rmse: 0.00494555\n",
            "Early stopping, best iteration is:\n",
            "[1584]\ttraining's rmse: 0.00141865\tvalid_1's rmse: 0.00494179\n"
          ]
        }
      ]
    },
    {
      "cell_type": "code",
      "source": [
        "# 18) Validación del modelo\n",
        "from sklearn.metrics import mean_squared_error\n",
        "import numpy as np\n",
        "\n",
        "# Predicciones sobre el conjunto de validación\n",
        "pred_valid = model.predict(X_valid, num_iteration=model.best_iteration)\n",
        "\n",
        "# Cálculo del RMSE (raíz del error cuadrático medio)\n",
        "rmse = np.sqrt(mean_squared_error(y_valid, pred_valid))\n",
        "print(\"RMSE valid:\", rmse)"
      ],
      "metadata": {
        "colab": {
          "base_uri": "https://localhost:8080/"
        },
        "id": "aRL_X0jBR4j8",
        "outputId": "0e32cf33-bf5e-4815-b981-14cb39731380"
      },
      "execution_count": 34,
      "outputs": [
        {
          "output_type": "stream",
          "name": "stdout",
          "text": [
            "RMSE valid: 0.004941793426680434\n"
          ]
        }
      ]
    }
  ]
}